{
 "cells": [
  {
   "cell_type": "code",
   "execution_count": 137,
   "metadata": {},
   "outputs": [],
   "source": [
    "import sys\n",
    "sys.path.append(\"./classifier\")"
   ]
  },
  {
   "cell_type": "code",
   "execution_count": 138,
   "metadata": {},
   "outputs": [],
   "source": [
    "import os\n",
    "import numpy as np\n",
    "import torch\n",
    "from sklearn import metrics\n",
    "from networks import fcn1\n",
    "from aggregators import LaplaceAggregator\n",
    "from datasets import WebrequestDataset\n",
    "from torch.utils.data import DataLoader, Subset, DataLoader\n",
    "from pytorch_lightning.metrics.functional import stat_scores\n",
    "from models import Student"
   ]
  },
  {
   "cell_type": "code",
   "execution_count": 139,
   "metadata": {},
   "outputs": [
    {
     "name": "stdout",
     "output_type": "stream",
     "text": [
      "classifier\t      student_predictions.pt\r\n",
      "data\t\t      tasks\r\n",
      "indices_250_a.pt      teacher_preds_250_a.pt\r\n",
      "indices_250_small.pt  teacher_preds_250_small.pt\r\n",
      "indices.pt\t      teacher_thresholds_250_a.pt\r\n",
      "notes\t\t      teacher_thresholds_250_small.pt\r\n",
      "Pipfile\t\t      teacher_thresholds.pt\r\n",
      "preds.pt\t      wandb\r\n",
      "README.md\t      webrequest_data_analysis.ipynb\r\n",
      "requirements.txt\r\n"
     ]
    }
   ],
   "source": [
    "!ls"
   ]
  },
  {
   "cell_type": "code",
   "execution_count": 140,
   "metadata": {},
   "outputs": [
    {
     "data": {
      "text/plain": [
       "device(type='cpu')"
      ]
     },
     "execution_count": 140,
     "metadata": {},
     "output_type": "execute_result"
    }
   ],
   "source": [
    "device = torch.device(\"cuda:0\" if torch.cuda.is_available() else \"cpu\")\n",
    "device"
   ]
  },
  {
   "cell_type": "code",
   "execution_count": 141,
   "metadata": {},
   "outputs": [],
   "source": [
    "num_workers = 4\n",
    "aggregator = LaplaceAggregator(None)\n",
    "dataset = WebrequestDataset(max_teacher_samples=None, max_student_train_queries=100000, num_workers=num_workers)\n",
    "dataset.prepare_data()\n",
    "dataset = dataset.train_data"
   ]
  },
  {
   "cell_type": "code",
   "execution_count": 187,
   "metadata": {},
   "outputs": [],
   "source": [
    "eps = 10\n",
    "\n",
    "def laplace_randomizer(row):\n",
    "    scale = 2/eps\n",
    "    noise = np.random.laplace(0, scale, row.shape)\n",
    "    return row + noise"
   ]
  },
  {
   "cell_type": "code",
   "execution_count": 188,
   "metadata": {},
   "outputs": [
    {
     "data": {
      "text/html": [
       "<div>\n",
       "<style scoped>\n",
       "    .dataframe tbody tr th:only-of-type {\n",
       "        vertical-align: middle;\n",
       "    }\n",
       "\n",
       "    .dataframe tbody tr th {\n",
       "        vertical-align: top;\n",
       "    }\n",
       "\n",
       "    .dataframe thead th {\n",
       "        text-align: right;\n",
       "    }\n",
       "</style>\n",
       "<table border=\"1\" class=\"dataframe\">\n",
       "  <thead>\n",
       "    <tr style=\"text-align: right;\">\n",
       "      <th></th>\n",
       "      <th>/</th>\n",
       "      <th>javascript</th>\n",
       "      <th>.</th>\n",
       "      <th>core</th>\n",
       "      <th>_</th>\n",
       "      <th>2</th>\n",
       "      <th>-</th>\n",
       "      <th>m</th>\n",
       "      <th>default</th>\n",
       "      <th>php</th>\n",
       "      <th>...</th>\n",
       "      <th>es</th>\n",
       "      <th>title</th>\n",
       "      <th>c0</th>\n",
       "      <th>2565</th>\n",
       "      <th>2563</th>\n",
       "      <th>2569</th>\n",
       "      <th>2574</th>\n",
       "      <th>256f</th>\n",
       "      <th>2e</th>\n",
       "      <th>Etiqueta</th>\n",
       "    </tr>\n",
       "  </thead>\n",
       "  <tbody>\n",
       "    <tr>\n",
       "      <th>0</th>\n",
       "      <td>0.0</td>\n",
       "      <td>0.0</td>\n",
       "      <td>0.0</td>\n",
       "      <td>0.0</td>\n",
       "      <td>0.0</td>\n",
       "      <td>0.0</td>\n",
       "      <td>0.0</td>\n",
       "      <td>0.0</td>\n",
       "      <td>0.0</td>\n",
       "      <td>0.000000</td>\n",
       "      <td>...</td>\n",
       "      <td>0.0</td>\n",
       "      <td>0.0</td>\n",
       "      <td>0.0</td>\n",
       "      <td>0.0</td>\n",
       "      <td>0.0</td>\n",
       "      <td>0.0</td>\n",
       "      <td>0.0</td>\n",
       "      <td>0.0</td>\n",
       "      <td>0.0</td>\n",
       "      <td>0</td>\n",
       "    </tr>\n",
       "    <tr>\n",
       "      <th>1</th>\n",
       "      <td>0.0</td>\n",
       "      <td>0.0</td>\n",
       "      <td>0.0</td>\n",
       "      <td>0.0</td>\n",
       "      <td>0.0</td>\n",
       "      <td>0.0</td>\n",
       "      <td>0.0</td>\n",
       "      <td>0.0</td>\n",
       "      <td>0.0</td>\n",
       "      <td>0.000000</td>\n",
       "      <td>...</td>\n",
       "      <td>0.0</td>\n",
       "      <td>0.0</td>\n",
       "      <td>0.0</td>\n",
       "      <td>0.0</td>\n",
       "      <td>0.0</td>\n",
       "      <td>0.0</td>\n",
       "      <td>0.0</td>\n",
       "      <td>0.0</td>\n",
       "      <td>0.0</td>\n",
       "      <td>0</td>\n",
       "    </tr>\n",
       "    <tr>\n",
       "      <th>2</th>\n",
       "      <td>0.0</td>\n",
       "      <td>0.0</td>\n",
       "      <td>0.0</td>\n",
       "      <td>0.0</td>\n",
       "      <td>0.0</td>\n",
       "      <td>0.0</td>\n",
       "      <td>0.0</td>\n",
       "      <td>0.0</td>\n",
       "      <td>0.0</td>\n",
       "      <td>0.000000</td>\n",
       "      <td>...</td>\n",
       "      <td>0.0</td>\n",
       "      <td>0.0</td>\n",
       "      <td>0.0</td>\n",
       "      <td>0.0</td>\n",
       "      <td>0.0</td>\n",
       "      <td>0.0</td>\n",
       "      <td>0.0</td>\n",
       "      <td>0.0</td>\n",
       "      <td>0.0</td>\n",
       "      <td>0</td>\n",
       "    </tr>\n",
       "    <tr>\n",
       "      <th>3</th>\n",
       "      <td>0.0</td>\n",
       "      <td>0.0</td>\n",
       "      <td>0.0</td>\n",
       "      <td>0.0</td>\n",
       "      <td>0.0</td>\n",
       "      <td>0.0</td>\n",
       "      <td>0.0</td>\n",
       "      <td>0.0</td>\n",
       "      <td>0.0</td>\n",
       "      <td>0.000000</td>\n",
       "      <td>...</td>\n",
       "      <td>0.0</td>\n",
       "      <td>0.0</td>\n",
       "      <td>0.0</td>\n",
       "      <td>0.0</td>\n",
       "      <td>0.0</td>\n",
       "      <td>0.0</td>\n",
       "      <td>0.0</td>\n",
       "      <td>0.0</td>\n",
       "      <td>0.0</td>\n",
       "      <td>0</td>\n",
       "    </tr>\n",
       "    <tr>\n",
       "      <th>4</th>\n",
       "      <td>0.0</td>\n",
       "      <td>0.0</td>\n",
       "      <td>0.0</td>\n",
       "      <td>0.0</td>\n",
       "      <td>0.0</td>\n",
       "      <td>0.0</td>\n",
       "      <td>0.0</td>\n",
       "      <td>0.0</td>\n",
       "      <td>0.0</td>\n",
       "      <td>0.000000</td>\n",
       "      <td>...</td>\n",
       "      <td>0.0</td>\n",
       "      <td>0.0</td>\n",
       "      <td>0.0</td>\n",
       "      <td>0.0</td>\n",
       "      <td>0.0</td>\n",
       "      <td>0.0</td>\n",
       "      <td>0.0</td>\n",
       "      <td>0.0</td>\n",
       "      <td>0.0</td>\n",
       "      <td>0</td>\n",
       "    </tr>\n",
       "    <tr>\n",
       "      <th>...</th>\n",
       "      <td>...</td>\n",
       "      <td>...</td>\n",
       "      <td>...</td>\n",
       "      <td>...</td>\n",
       "      <td>...</td>\n",
       "      <td>...</td>\n",
       "      <td>...</td>\n",
       "      <td>...</td>\n",
       "      <td>...</td>\n",
       "      <td>...</td>\n",
       "      <td>...</td>\n",
       "      <td>...</td>\n",
       "      <td>...</td>\n",
       "      <td>...</td>\n",
       "      <td>...</td>\n",
       "      <td>...</td>\n",
       "      <td>...</td>\n",
       "      <td>...</td>\n",
       "      <td>...</td>\n",
       "      <td>...</td>\n",
       "      <td>...</td>\n",
       "    </tr>\n",
       "    <tr>\n",
       "      <th>233513</th>\n",
       "      <td>0.0</td>\n",
       "      <td>0.0</td>\n",
       "      <td>0.0</td>\n",
       "      <td>0.0</td>\n",
       "      <td>0.0</td>\n",
       "      <td>0.0</td>\n",
       "      <td>0.0</td>\n",
       "      <td>0.0</td>\n",
       "      <td>0.0</td>\n",
       "      <td>0.000000</td>\n",
       "      <td>...</td>\n",
       "      <td>0.0</td>\n",
       "      <td>0.0</td>\n",
       "      <td>0.0</td>\n",
       "      <td>0.0</td>\n",
       "      <td>0.0</td>\n",
       "      <td>0.0</td>\n",
       "      <td>0.0</td>\n",
       "      <td>0.0</td>\n",
       "      <td>0.0</td>\n",
       "      <td>0</td>\n",
       "    </tr>\n",
       "    <tr>\n",
       "      <th>233514</th>\n",
       "      <td>0.0</td>\n",
       "      <td>0.0</td>\n",
       "      <td>0.0</td>\n",
       "      <td>0.0</td>\n",
       "      <td>0.0</td>\n",
       "      <td>0.0</td>\n",
       "      <td>0.0</td>\n",
       "      <td>0.0</td>\n",
       "      <td>0.0</td>\n",
       "      <td>0.000000</td>\n",
       "      <td>...</td>\n",
       "      <td>0.0</td>\n",
       "      <td>0.0</td>\n",
       "      <td>0.0</td>\n",
       "      <td>0.0</td>\n",
       "      <td>0.0</td>\n",
       "      <td>0.0</td>\n",
       "      <td>0.0</td>\n",
       "      <td>0.0</td>\n",
       "      <td>0.0</td>\n",
       "      <td>0</td>\n",
       "    </tr>\n",
       "    <tr>\n",
       "      <th>233515</th>\n",
       "      <td>0.0</td>\n",
       "      <td>0.0</td>\n",
       "      <td>0.0</td>\n",
       "      <td>0.0</td>\n",
       "      <td>0.0</td>\n",
       "      <td>0.0</td>\n",
       "      <td>0.0</td>\n",
       "      <td>0.0</td>\n",
       "      <td>0.0</td>\n",
       "      <td>0.000000</td>\n",
       "      <td>...</td>\n",
       "      <td>0.0</td>\n",
       "      <td>0.0</td>\n",
       "      <td>0.0</td>\n",
       "      <td>0.0</td>\n",
       "      <td>0.0</td>\n",
       "      <td>0.0</td>\n",
       "      <td>0.0</td>\n",
       "      <td>0.0</td>\n",
       "      <td>0.0</td>\n",
       "      <td>0</td>\n",
       "    </tr>\n",
       "    <tr>\n",
       "      <th>233516</th>\n",
       "      <td>0.0</td>\n",
       "      <td>0.0</td>\n",
       "      <td>0.0</td>\n",
       "      <td>0.0</td>\n",
       "      <td>0.0</td>\n",
       "      <td>0.0</td>\n",
       "      <td>0.0</td>\n",
       "      <td>0.0</td>\n",
       "      <td>0.0</td>\n",
       "      <td>0.000000</td>\n",
       "      <td>...</td>\n",
       "      <td>0.0</td>\n",
       "      <td>0.0</td>\n",
       "      <td>0.0</td>\n",
       "      <td>0.0</td>\n",
       "      <td>0.0</td>\n",
       "      <td>0.0</td>\n",
       "      <td>0.0</td>\n",
       "      <td>0.0</td>\n",
       "      <td>0.0</td>\n",
       "      <td>0</td>\n",
       "    </tr>\n",
       "    <tr>\n",
       "      <th>233517</th>\n",
       "      <td>0.0</td>\n",
       "      <td>0.0</td>\n",
       "      <td>0.0</td>\n",
       "      <td>0.0</td>\n",
       "      <td>0.0</td>\n",
       "      <td>0.0</td>\n",
       "      <td>0.0</td>\n",
       "      <td>0.0</td>\n",
       "      <td>0.0</td>\n",
       "      <td>0.812959</td>\n",
       "      <td>...</td>\n",
       "      <td>0.0</td>\n",
       "      <td>0.0</td>\n",
       "      <td>0.0</td>\n",
       "      <td>0.0</td>\n",
       "      <td>0.0</td>\n",
       "      <td>0.0</td>\n",
       "      <td>0.0</td>\n",
       "      <td>0.0</td>\n",
       "      <td>0.0</td>\n",
       "      <td>0</td>\n",
       "    </tr>\n",
       "  </tbody>\n",
       "</table>\n",
       "<p>233518 rows × 501 columns</p>\n",
       "</div>"
      ],
      "text/plain": [
       "          /  javascript    .  core    _    2    -    m  default       php  \\\n",
       "0       0.0         0.0  0.0   0.0  0.0  0.0  0.0  0.0      0.0  0.000000   \n",
       "1       0.0         0.0  0.0   0.0  0.0  0.0  0.0  0.0      0.0  0.000000   \n",
       "2       0.0         0.0  0.0   0.0  0.0  0.0  0.0  0.0      0.0  0.000000   \n",
       "3       0.0         0.0  0.0   0.0  0.0  0.0  0.0  0.0      0.0  0.000000   \n",
       "4       0.0         0.0  0.0   0.0  0.0  0.0  0.0  0.0      0.0  0.000000   \n",
       "...     ...         ...  ...   ...  ...  ...  ...  ...      ...       ...   \n",
       "233513  0.0         0.0  0.0   0.0  0.0  0.0  0.0  0.0      0.0  0.000000   \n",
       "233514  0.0         0.0  0.0   0.0  0.0  0.0  0.0  0.0      0.0  0.000000   \n",
       "233515  0.0         0.0  0.0   0.0  0.0  0.0  0.0  0.0      0.0  0.000000   \n",
       "233516  0.0         0.0  0.0   0.0  0.0  0.0  0.0  0.0      0.0  0.000000   \n",
       "233517  0.0         0.0  0.0   0.0  0.0  0.0  0.0  0.0      0.0  0.812959   \n",
       "\n",
       "        ...   es  title   c0  2565  2563  2569  2574  256f   2e  Etiqueta  \n",
       "0       ...  0.0    0.0  0.0   0.0   0.0   0.0   0.0   0.0  0.0         0  \n",
       "1       ...  0.0    0.0  0.0   0.0   0.0   0.0   0.0   0.0  0.0         0  \n",
       "2       ...  0.0    0.0  0.0   0.0   0.0   0.0   0.0   0.0  0.0         0  \n",
       "3       ...  0.0    0.0  0.0   0.0   0.0   0.0   0.0   0.0  0.0         0  \n",
       "4       ...  0.0    0.0  0.0   0.0   0.0   0.0   0.0   0.0  0.0         0  \n",
       "...     ...  ...    ...  ...   ...   ...   ...   ...   ...  ...       ...  \n",
       "233513  ...  0.0    0.0  0.0   0.0   0.0   0.0   0.0   0.0  0.0         0  \n",
       "233514  ...  0.0    0.0  0.0   0.0   0.0   0.0   0.0   0.0  0.0         0  \n",
       "233515  ...  0.0    0.0  0.0   0.0   0.0   0.0   0.0   0.0  0.0         0  \n",
       "233516  ...  0.0    0.0  0.0   0.0   0.0   0.0   0.0   0.0  0.0         0  \n",
       "233517  ...  0.0    0.0  0.0   0.0   0.0   0.0   0.0   0.0  0.0         0  \n",
       "\n",
       "[233518 rows x 501 columns]"
      ]
     },
     "execution_count": 188,
     "metadata": {},
     "output_type": "execute_result"
    }
   ],
   "source": [
    "dataset.data"
   ]
  },
  {
   "cell_type": "code",
   "execution_count": 191,
   "metadata": {},
   "outputs": [
    {
     "data": {
      "text/html": [
       "<div>\n",
       "<style scoped>\n",
       "    .dataframe tbody tr th:only-of-type {\n",
       "        vertical-align: middle;\n",
       "    }\n",
       "\n",
       "    .dataframe tbody tr th {\n",
       "        vertical-align: top;\n",
       "    }\n",
       "\n",
       "    .dataframe thead th {\n",
       "        text-align: right;\n",
       "    }\n",
       "</style>\n",
       "<table border=\"1\" class=\"dataframe\">\n",
       "  <thead>\n",
       "    <tr style=\"text-align: right;\">\n",
       "      <th></th>\n",
       "      <th>/</th>\n",
       "      <th>javascript</th>\n",
       "      <th>.</th>\n",
       "      <th>core</th>\n",
       "      <th>_</th>\n",
       "      <th>2</th>\n",
       "      <th>-</th>\n",
       "      <th>m</th>\n",
       "      <th>default</th>\n",
       "      <th>php</th>\n",
       "      <th>...</th>\n",
       "      <th>es</th>\n",
       "      <th>title</th>\n",
       "      <th>c0</th>\n",
       "      <th>2565</th>\n",
       "      <th>2563</th>\n",
       "      <th>2569</th>\n",
       "      <th>2574</th>\n",
       "      <th>256f</th>\n",
       "      <th>2e</th>\n",
       "      <th>Etiqueta</th>\n",
       "    </tr>\n",
       "  </thead>\n",
       "  <tbody>\n",
       "    <tr>\n",
       "      <th>0</th>\n",
       "      <td>0.402330</td>\n",
       "      <td>0.163454</td>\n",
       "      <td>-0.174181</td>\n",
       "      <td>-0.260681</td>\n",
       "      <td>-0.042050</td>\n",
       "      <td>-0.250720</td>\n",
       "      <td>0.147582</td>\n",
       "      <td>-0.117527</td>\n",
       "      <td>0.378677</td>\n",
       "      <td>0.158824</td>\n",
       "      <td>...</td>\n",
       "      <td>-0.204784</td>\n",
       "      <td>0.205166</td>\n",
       "      <td>-0.430915</td>\n",
       "      <td>-0.331801</td>\n",
       "      <td>-0.031817</td>\n",
       "      <td>-0.367155</td>\n",
       "      <td>-0.109164</td>\n",
       "      <td>-0.018504</td>\n",
       "      <td>-0.182697</td>\n",
       "      <td>0</td>\n",
       "    </tr>\n",
       "    <tr>\n",
       "      <th>1</th>\n",
       "      <td>0.121648</td>\n",
       "      <td>-0.027866</td>\n",
       "      <td>-0.014436</td>\n",
       "      <td>-0.183708</td>\n",
       "      <td>0.003092</td>\n",
       "      <td>-0.258950</td>\n",
       "      <td>0.016678</td>\n",
       "      <td>0.160752</td>\n",
       "      <td>0.093264</td>\n",
       "      <td>0.343358</td>\n",
       "      <td>...</td>\n",
       "      <td>-0.261413</td>\n",
       "      <td>0.346396</td>\n",
       "      <td>0.179508</td>\n",
       "      <td>-0.198188</td>\n",
       "      <td>-0.003301</td>\n",
       "      <td>0.072421</td>\n",
       "      <td>-0.056027</td>\n",
       "      <td>-0.223616</td>\n",
       "      <td>0.673254</td>\n",
       "      <td>0</td>\n",
       "    </tr>\n",
       "    <tr>\n",
       "      <th>2</th>\n",
       "      <td>0.323710</td>\n",
       "      <td>-0.082253</td>\n",
       "      <td>0.392754</td>\n",
       "      <td>-0.062300</td>\n",
       "      <td>0.263891</td>\n",
       "      <td>-0.039616</td>\n",
       "      <td>0.053854</td>\n",
       "      <td>0.040871</td>\n",
       "      <td>0.022189</td>\n",
       "      <td>-0.065998</td>\n",
       "      <td>...</td>\n",
       "      <td>0.028716</td>\n",
       "      <td>0.157262</td>\n",
       "      <td>-0.312881</td>\n",
       "      <td>-0.041787</td>\n",
       "      <td>-0.132009</td>\n",
       "      <td>-0.479509</td>\n",
       "      <td>0.032833</td>\n",
       "      <td>0.280399</td>\n",
       "      <td>0.010209</td>\n",
       "      <td>0</td>\n",
       "    </tr>\n",
       "    <tr>\n",
       "      <th>3</th>\n",
       "      <td>0.238826</td>\n",
       "      <td>-0.061918</td>\n",
       "      <td>-0.162094</td>\n",
       "      <td>0.257090</td>\n",
       "      <td>0.146824</td>\n",
       "      <td>-0.131914</td>\n",
       "      <td>0.422214</td>\n",
       "      <td>-0.329229</td>\n",
       "      <td>-0.123601</td>\n",
       "      <td>-0.305233</td>\n",
       "      <td>...</td>\n",
       "      <td>-0.320868</td>\n",
       "      <td>0.067109</td>\n",
       "      <td>0.287039</td>\n",
       "      <td>0.726392</td>\n",
       "      <td>0.016378</td>\n",
       "      <td>-0.041612</td>\n",
       "      <td>0.277770</td>\n",
       "      <td>-0.191940</td>\n",
       "      <td>-0.147569</td>\n",
       "      <td>0</td>\n",
       "    </tr>\n",
       "    <tr>\n",
       "      <th>4</th>\n",
       "      <td>-0.019984</td>\n",
       "      <td>0.172705</td>\n",
       "      <td>0.945801</td>\n",
       "      <td>0.076469</td>\n",
       "      <td>0.387535</td>\n",
       "      <td>0.687507</td>\n",
       "      <td>0.134160</td>\n",
       "      <td>-0.286811</td>\n",
       "      <td>-0.309020</td>\n",
       "      <td>0.080939</td>\n",
       "      <td>...</td>\n",
       "      <td>0.028112</td>\n",
       "      <td>0.017411</td>\n",
       "      <td>-0.026208</td>\n",
       "      <td>0.192903</td>\n",
       "      <td>0.258310</td>\n",
       "      <td>-0.277608</td>\n",
       "      <td>-0.161500</td>\n",
       "      <td>-0.373790</td>\n",
       "      <td>-0.260549</td>\n",
       "      <td>0</td>\n",
       "    </tr>\n",
       "    <tr>\n",
       "      <th>...</th>\n",
       "      <td>...</td>\n",
       "      <td>...</td>\n",
       "      <td>...</td>\n",
       "      <td>...</td>\n",
       "      <td>...</td>\n",
       "      <td>...</td>\n",
       "      <td>...</td>\n",
       "      <td>...</td>\n",
       "      <td>...</td>\n",
       "      <td>...</td>\n",
       "      <td>...</td>\n",
       "      <td>...</td>\n",
       "      <td>...</td>\n",
       "      <td>...</td>\n",
       "      <td>...</td>\n",
       "      <td>...</td>\n",
       "      <td>...</td>\n",
       "      <td>...</td>\n",
       "      <td>...</td>\n",
       "      <td>...</td>\n",
       "      <td>...</td>\n",
       "    </tr>\n",
       "    <tr>\n",
       "      <th>233513</th>\n",
       "      <td>0.086960</td>\n",
       "      <td>-0.237628</td>\n",
       "      <td>-0.081476</td>\n",
       "      <td>0.031642</td>\n",
       "      <td>-0.050287</td>\n",
       "      <td>0.132985</td>\n",
       "      <td>-0.728673</td>\n",
       "      <td>0.022516</td>\n",
       "      <td>0.002642</td>\n",
       "      <td>0.321998</td>\n",
       "      <td>...</td>\n",
       "      <td>0.069256</td>\n",
       "      <td>-0.032521</td>\n",
       "      <td>0.381918</td>\n",
       "      <td>0.480285</td>\n",
       "      <td>-0.005639</td>\n",
       "      <td>0.362250</td>\n",
       "      <td>-0.012361</td>\n",
       "      <td>-0.060412</td>\n",
       "      <td>-0.047881</td>\n",
       "      <td>0</td>\n",
       "    </tr>\n",
       "    <tr>\n",
       "      <th>233514</th>\n",
       "      <td>-0.297493</td>\n",
       "      <td>-0.193556</td>\n",
       "      <td>0.046871</td>\n",
       "      <td>-0.244502</td>\n",
       "      <td>0.042476</td>\n",
       "      <td>-0.120988</td>\n",
       "      <td>0.060110</td>\n",
       "      <td>-0.184807</td>\n",
       "      <td>-0.007857</td>\n",
       "      <td>0.404407</td>\n",
       "      <td>...</td>\n",
       "      <td>-0.041711</td>\n",
       "      <td>0.592387</td>\n",
       "      <td>0.074345</td>\n",
       "      <td>0.036422</td>\n",
       "      <td>-0.466700</td>\n",
       "      <td>0.342867</td>\n",
       "      <td>0.012460</td>\n",
       "      <td>0.132762</td>\n",
       "      <td>-0.003149</td>\n",
       "      <td>0</td>\n",
       "    </tr>\n",
       "    <tr>\n",
       "      <th>233515</th>\n",
       "      <td>0.084421</td>\n",
       "      <td>-0.292105</td>\n",
       "      <td>-0.011455</td>\n",
       "      <td>0.583374</td>\n",
       "      <td>-0.129761</td>\n",
       "      <td>-0.043415</td>\n",
       "      <td>-0.624632</td>\n",
       "      <td>0.526226</td>\n",
       "      <td>0.084318</td>\n",
       "      <td>0.683214</td>\n",
       "      <td>...</td>\n",
       "      <td>0.013542</td>\n",
       "      <td>-0.086428</td>\n",
       "      <td>-0.078640</td>\n",
       "      <td>0.048740</td>\n",
       "      <td>-0.304504</td>\n",
       "      <td>-0.642063</td>\n",
       "      <td>0.007829</td>\n",
       "      <td>0.202554</td>\n",
       "      <td>0.395071</td>\n",
       "      <td>0</td>\n",
       "    </tr>\n",
       "    <tr>\n",
       "      <th>233516</th>\n",
       "      <td>-0.139345</td>\n",
       "      <td>-0.014848</td>\n",
       "      <td>0.847034</td>\n",
       "      <td>-0.522617</td>\n",
       "      <td>0.170083</td>\n",
       "      <td>-0.052347</td>\n",
       "      <td>-0.020478</td>\n",
       "      <td>0.117301</td>\n",
       "      <td>-0.354745</td>\n",
       "      <td>0.066925</td>\n",
       "      <td>...</td>\n",
       "      <td>-0.029589</td>\n",
       "      <td>0.097460</td>\n",
       "      <td>0.624603</td>\n",
       "      <td>0.022929</td>\n",
       "      <td>-0.194081</td>\n",
       "      <td>-0.276612</td>\n",
       "      <td>-0.229840</td>\n",
       "      <td>0.049376</td>\n",
       "      <td>0.053142</td>\n",
       "      <td>0</td>\n",
       "    </tr>\n",
       "    <tr>\n",
       "      <th>233517</th>\n",
       "      <td>-0.441004</td>\n",
       "      <td>0.091458</td>\n",
       "      <td>-0.346051</td>\n",
       "      <td>-0.008848</td>\n",
       "      <td>-0.100571</td>\n",
       "      <td>0.090377</td>\n",
       "      <td>-0.644795</td>\n",
       "      <td>0.032483</td>\n",
       "      <td>-0.056981</td>\n",
       "      <td>1.226872</td>\n",
       "      <td>...</td>\n",
       "      <td>0.361902</td>\n",
       "      <td>-0.182670</td>\n",
       "      <td>0.039075</td>\n",
       "      <td>0.852006</td>\n",
       "      <td>0.005644</td>\n",
       "      <td>-0.279155</td>\n",
       "      <td>-0.040066</td>\n",
       "      <td>1.446728</td>\n",
       "      <td>-0.304337</td>\n",
       "      <td>0</td>\n",
       "    </tr>\n",
       "  </tbody>\n",
       "</table>\n",
       "<p>233518 rows × 501 columns</p>\n",
       "</div>"
      ],
      "text/plain": [
       "               /  javascript         .      core         _         2  \\\n",
       "0       0.402330    0.163454 -0.174181 -0.260681 -0.042050 -0.250720   \n",
       "1       0.121648   -0.027866 -0.014436 -0.183708  0.003092 -0.258950   \n",
       "2       0.323710   -0.082253  0.392754 -0.062300  0.263891 -0.039616   \n",
       "3       0.238826   -0.061918 -0.162094  0.257090  0.146824 -0.131914   \n",
       "4      -0.019984    0.172705  0.945801  0.076469  0.387535  0.687507   \n",
       "...          ...         ...       ...       ...       ...       ...   \n",
       "233513  0.086960   -0.237628 -0.081476  0.031642 -0.050287  0.132985   \n",
       "233514 -0.297493   -0.193556  0.046871 -0.244502  0.042476 -0.120988   \n",
       "233515  0.084421   -0.292105 -0.011455  0.583374 -0.129761 -0.043415   \n",
       "233516 -0.139345   -0.014848  0.847034 -0.522617  0.170083 -0.052347   \n",
       "233517 -0.441004    0.091458 -0.346051 -0.008848 -0.100571  0.090377   \n",
       "\n",
       "               -         m   default       php  ...        es     title  \\\n",
       "0       0.147582 -0.117527  0.378677  0.158824  ... -0.204784  0.205166   \n",
       "1       0.016678  0.160752  0.093264  0.343358  ... -0.261413  0.346396   \n",
       "2       0.053854  0.040871  0.022189 -0.065998  ...  0.028716  0.157262   \n",
       "3       0.422214 -0.329229 -0.123601 -0.305233  ... -0.320868  0.067109   \n",
       "4       0.134160 -0.286811 -0.309020  0.080939  ...  0.028112  0.017411   \n",
       "...          ...       ...       ...       ...  ...       ...       ...   \n",
       "233513 -0.728673  0.022516  0.002642  0.321998  ...  0.069256 -0.032521   \n",
       "233514  0.060110 -0.184807 -0.007857  0.404407  ... -0.041711  0.592387   \n",
       "233515 -0.624632  0.526226  0.084318  0.683214  ...  0.013542 -0.086428   \n",
       "233516 -0.020478  0.117301 -0.354745  0.066925  ... -0.029589  0.097460   \n",
       "233517 -0.644795  0.032483 -0.056981  1.226872  ...  0.361902 -0.182670   \n",
       "\n",
       "              c0      2565      2563      2569      2574      256f        2e  \\\n",
       "0      -0.430915 -0.331801 -0.031817 -0.367155 -0.109164 -0.018504 -0.182697   \n",
       "1       0.179508 -0.198188 -0.003301  0.072421 -0.056027 -0.223616  0.673254   \n",
       "2      -0.312881 -0.041787 -0.132009 -0.479509  0.032833  0.280399  0.010209   \n",
       "3       0.287039  0.726392  0.016378 -0.041612  0.277770 -0.191940 -0.147569   \n",
       "4      -0.026208  0.192903  0.258310 -0.277608 -0.161500 -0.373790 -0.260549   \n",
       "...          ...       ...       ...       ...       ...       ...       ...   \n",
       "233513  0.381918  0.480285 -0.005639  0.362250 -0.012361 -0.060412 -0.047881   \n",
       "233514  0.074345  0.036422 -0.466700  0.342867  0.012460  0.132762 -0.003149   \n",
       "233515 -0.078640  0.048740 -0.304504 -0.642063  0.007829  0.202554  0.395071   \n",
       "233516  0.624603  0.022929 -0.194081 -0.276612 -0.229840  0.049376  0.053142   \n",
       "233517  0.039075  0.852006  0.005644 -0.279155 -0.040066  1.446728 -0.304337   \n",
       "\n",
       "        Etiqueta  \n",
       "0              0  \n",
       "1              0  \n",
       "2              0  \n",
       "3              0  \n",
       "4              0  \n",
       "...          ...  \n",
       "233513         0  \n",
       "233514         0  \n",
       "233515         0  \n",
       "233516         0  \n",
       "233517         0  \n",
       "\n",
       "[233518 rows x 501 columns]"
      ]
     },
     "execution_count": 191,
     "metadata": {},
     "output_type": "execute_result"
    }
   ],
   "source": [
    "dataset.data.loc[:, :500] = np.apply_along_axis(laplace_randomizer, 0, dataset.data.values[:, :500])\n",
    "dataset.data"
   ]
  },
  {
   "cell_type": "code",
   "execution_count": 143,
   "metadata": {},
   "outputs": [],
   "source": [
    "# Load teacher_networks\n",
    "\n",
    "teacher_networks = []\n",
    "teachers_path = \"classifier/weights/teachers/2020-08-24-22:17-cute-tiger\"\n",
    "input_shape = [500]\n",
    "\n",
    "for i, teacher_file in enumerate(sorted(os.listdir(teachers_path))):\n",
    "    if teacher_file.startswith(\"teacher_\"):\n",
    "        teacher_network = fcn1(input_shape)\n",
    "        teacher_network.load_state_dict(\n",
    "            torch.load(f\"{teachers_path}/{teacher_file}\")\n",
    "        )\n",
    "        teacher_network.eval()\n",
    "        teacher_network.to(device)\n",
    "        teacher_networks.append(teacher_network)"
   ]
  },
  {
   "cell_type": "code",
   "execution_count": 144,
   "metadata": {},
   "outputs": [
    {
     "name": "stdout",
     "output_type": "stream",
     "text": [
      "(233518,)\n"
     ]
    }
   ],
   "source": [
    "indices = torch.load('./indices_250_a.pt')\n",
    "# preds_b = torch.load('preds.pt', map_location=device)\n",
    "# teacher_thresholds_b = torch.load('teacher_thresholds.pt', map_location=device)\n",
    "print(indices.shape)"
   ]
  },
  {
   "cell_type": "code",
   "execution_count": 177,
   "metadata": {},
   "outputs": [
    {
     "name": "stdout",
     "output_type": "stream",
     "text": [
      "[[0.45223681 0.5993732  0.51970238]\n",
      " [0.42448468 0.55262561 0.98522146]]\n",
      "[[0.20451813 0.35924824 0.27009056]\n",
      " [0.18018724 0.30539506 0.97066133]]\n"
     ]
    }
   ],
   "source": [
    "counter = 1\n",
    "def add_one(row):\n",
    "    return row * row\n",
    "\n",
    "a = np.random.random((2, 3))\n",
    "print(a)\n",
    "print(np.apply_along_axis(add_one, 0, a))"
   ]
  },
  {
   "cell_type": "code",
   "execution_count": 161,
   "metadata": {
    "tags": []
   },
   "outputs": [],
   "source": [
    "# Calculate teacher_thresholds\n",
    "\n",
    "teacher_thresholds = []\n",
    "samples_per_teacher = 800\n",
    "batch_size = 512\n",
    "\n",
    "for i, teacher in enumerate(teacher_networks):\n",
    "    subset = Subset(dataset, indices[i*samples_per_teacher:(i+1)*samples_per_teacher])\n",
    "    dataloader = DataLoader(subset, batch_size=batch_size, num_workers=num_workers)\n",
    "\n",
    "    y_pred = torch.zeros(0, dtype=torch.float).to(device)\n",
    "    y_true = torch.zeros(0, dtype=torch.float).to(device)\n",
    "\n",
    "    for images, labels in dataloader:\n",
    "        images, labels = images.to(device), labels.to(device)\n",
    "        output = teacher(laplace_randomizer(images))\n",
    "\n",
    "        y_pred = torch.cat((y_pred, output.reshape(output.shape[0])))\n",
    "        y_true = torch.cat((y_true, labels.reshape(labels.shape[0])))\n",
    "\n",
    "    fpr, tpr, thresholds = metrics.roc_curve(y_true.cpu(), y_pred.cpu().detach().numpy())\n",
    "    optimal_idx = np.argmax(tpr - fpr)\n",
    "    optimal_threshold = thresholds[optimal_idx]\n",
    "    teacher_thresholds.append(optimal_threshold)"
   ]
  },
  {
   "cell_type": "code",
   "execution_count": 163,
   "metadata": {},
   "outputs": [
    {
     "name": "stdout",
     "output_type": "stream",
     "text": [
      "0.05: 0.3103448275862069 0.8443579766536965 9 20 651 120\n",
      "0.1: 0.3103448275862069 0.8586251621271076 9 20 662 109\n",
      "0.15: 0.27586206896551724 0.8664072632944229 8 21 668 103\n",
      "0.2: 0.27586206896551724 0.8715953307392996 8 21 672 99\n",
      "0.25: 0.2413793103448276 0.8767833981841764 7 22 676 95\n",
      "0.3: 0.2413793103448276 0.8780804150453956 7 22 677 94\n",
      "0.35: 0.2413793103448276 0.8819714656290532 7 22 680 91\n",
      "0.4: 0.2413793103448276 0.8832684824902723 7 22 681 90\n",
      "0.45: 0.2413793103448276 0.8897535667963683 7 22 686 85\n",
      "0.5: 0.2413793103448276 0.893644617380026 7 22 689 82\n",
      "0.55: 0.2413793103448276 0.8975356679636836 7 22 692 79\n",
      "0.6: 0.2413793103448276 0.8988326848249028 7 22 693 78\n",
      "0.65: 0.2413793103448276 0.8988326848249028 7 22 693 78\n",
      "0.7: 0.2413793103448276 0.9001297016861219 7 22 694 77\n",
      "0.75: 0.2413793103448276 0.9001297016861219 7 22 694 77\n",
      "0.8: 0.2413793103448276 0.9040207522697795 7 22 697 74\n",
      "0.85: 0.2413793103448276 0.9092088197146563 7 22 701 70\n",
      "0.9: 0.2413793103448276 0.9118028534370947 7 22 703 68\n",
      "0.95: 0.2413793103448276 0.9182879377431906 7 22 708 63\n"
     ]
    }
   ],
   "source": [
    "# measure threshold accuracy\n",
    "\n",
    "for thresh in [0.05, 0.1, 0.15, 0.2, 0.25, 0.3, 0.35, 0.4, 0.45, 0.5, 0.55, 0.6, 0.65, 0.7, 0.75, 0.8, 0.85, 0.9, 0.95]:\n",
    "    tp, fn, tn, fp, _ = stat_scores(y_true, (y_pred > thresh).long(), class_index=1)\n",
    "    tp = tp.item()\n",
    "    tn = tn.item()\n",
    "    fp = fp.item()\n",
    "    fn = fn.item()\n",
    "    print(f\"{thresh}:\", tp/(tp+fn),tn/(tn+fp),tp, fn, tn, fp)"
   ]
  },
  {
   "cell_type": "code",
   "execution_count": 26,
   "metadata": {
    "tags": []
   },
   "outputs": [],
   "source": [
    " # Get student train dataloader\n",
    "\n",
    "nr_samples_for_teacher_thresholds = 250*samples_per_teacher\n",
    "nr_train_samples = 15000\n",
    "\n",
    "train_idxs = indices[nr_samples_for_teacher_thresholds:nr_samples_for_teacher_thresholds+nr_train_samples]\n",
    "train_subset = Subset(dataset, train_idxs)\n",
    "dataloader = DataLoader(train_subset, batch_size=batch_size, num_workers=num_workers)"
   ]
  },
  {
   "cell_type": "code",
   "execution_count": 27,
   "metadata": {},
   "outputs": [
    {
     "data": {
      "text/plain": [
       "networks.fcn1.Classifier"
      ]
     },
     "execution_count": 27,
     "metadata": {},
     "output_type": "execute_result"
    }
   ],
   "source": [
    "type(teacher_networks[0])"
   ]
  },
  {
   "cell_type": "code",
   "execution_count": 29,
   "metadata": {
    "tags": []
   },
   "outputs": [
    {
     "name": "stdout",
     "output_type": "stream",
     "text": [
      "0\n",
      "1\n"
     ]
    }
   ],
   "source": [
    "# Make teacher binary predictions\n",
    "\n",
    "preds = torch.zeros((len(teacher_networks), len(train_subset)), dtype=torch.int)\n",
    "\n",
    "for i, teacher in enumerate(teacher_networks[:2]):\n",
    "    teacher.eval()\n",
    "    teacher_preds = torch.zeros(0, dtype=torch.int).to(device)\n",
    "\n",
    "    for images, labels in dataloader:\n",
    "        images, labels = images.to(device), labels.to(device)\n",
    "        output = teacher(images)\n",
    "        y_hat = (output >= teacher_thresholds[i]).type(torch.int)\n",
    "        teacher_preds = torch.cat((teacher_preds, y_hat.reshape(y_hat.shape[0])))\n",
    "\n",
    "    print(i)\n",
    "    preds[i] = teacher_preds"
   ]
  },
  {
   "cell_type": "code",
   "execution_count": 49,
   "metadata": {},
   "outputs": [
    {
     "data": {
      "text/plain": [
       "tensor([0.0000, 0.0000, 0.0000, 0.0000, 0.0000, 0.0000, 0.0000, 0.0000, 0.0000,\n",
       "        0.0000, 0.3512, 0.1992, 0.0000, 0.0000, 0.0000, 0.0000, 0.0000, 0.0000,\n",
       "        0.0000, 0.0000, 0.0000, 0.0000, 0.0000, 0.0000, 0.0000, 0.0000, 0.2856,\n",
       "        0.0000, 0.0000, 0.0000, 0.0000, 0.2580, 0.2581, 0.0000, 0.0000, 0.0000,\n",
       "        0.0000, 0.0000, 0.0000, 0.0000, 0.2574, 0.0000, 0.0000, 0.0000, 0.0000,\n",
       "        0.0000, 0.0000, 0.0000, 0.0000, 0.0000, 0.0000, 0.0000, 0.0000, 0.0000,\n",
       "        0.0000, 0.0000, 0.0000, 0.0000, 0.0000, 0.0000, 0.0000, 0.0000, 0.0000,\n",
       "        0.0000, 0.0000, 0.0000, 0.0000, 0.0000, 0.0000, 0.0000, 0.0000, 0.3774,\n",
       "        0.0000, 0.0000, 0.0000, 0.0000, 0.0000, 0.0000, 0.0000, 0.0000, 0.0000,\n",
       "        0.0000, 0.0000, 0.0000, 0.0000, 0.0000, 0.0000, 0.0000, 0.0000, 0.0000,\n",
       "        0.0000, 0.0000, 0.0000, 0.0000, 0.0000, 0.0000, 0.0000, 0.0000, 0.0000,\n",
       "        0.0000, 0.0000, 0.0000, 0.0000, 0.0000, 0.0000, 0.0000, 0.2590, 0.0000,\n",
       "        0.0000, 0.0000, 0.4811, 0.0000, 0.1663, 0.0000, 0.1637, 0.0000, 0.0000,\n",
       "        0.0000, 0.0000, 0.0000, 0.0000, 0.0000, 0.0000, 0.0000, 0.0000, 0.0000,\n",
       "        0.0000, 0.0000, 0.0000, 0.0000, 0.0000, 0.0000, 0.0000, 0.0000, 0.0000,\n",
       "        0.0000, 0.0000, 0.0000, 0.0000, 0.0000, 0.0000, 0.0000, 0.0000, 0.0000,\n",
       "        0.0000, 0.0000, 0.0000, 0.0000, 0.0000, 0.0000, 0.0000, 0.0000, 0.0000,\n",
       "        0.0000, 0.0000, 0.0000, 0.0000, 0.0000, 0.0000, 0.0000, 0.0000, 0.0000,\n",
       "        0.0000, 0.0000, 0.0000, 0.0000, 0.0000, 0.0000, 0.0000, 0.0000, 0.0000,\n",
       "        0.0000, 0.0000, 0.0000, 0.0000, 0.0000, 0.0000, 0.0000, 0.0000, 0.0000,\n",
       "        0.0000, 0.0000, 0.0000, 0.0000, 0.0000, 0.0000, 0.0000, 0.0000, 0.0000,\n",
       "        0.0000, 0.0000, 0.0000, 0.0000, 0.0000, 0.0000, 0.0000, 0.0000, 0.0000,\n",
       "        0.0000, 0.0000, 0.0000, 0.0000, 0.0000, 0.0000, 0.0000, 0.0000, 0.0000,\n",
       "        0.0000, 0.0000, 0.0000, 0.0000, 0.0000, 0.0000, 0.0000, 0.0000, 0.0000,\n",
       "        0.0000, 0.0000, 0.0000, 0.0000, 0.0000, 0.0000, 0.0000, 0.0000, 0.0000,\n",
       "        0.0000, 0.0000, 0.0000, 0.0000, 0.0000, 0.0000, 0.0000, 0.0000, 0.0000,\n",
       "        0.0000, 0.0000, 0.0000, 0.0000, 0.0000, 0.0000, 0.0000, 0.0000, 0.0000,\n",
       "        0.0000, 0.0000, 0.0000, 0.0000, 0.0000, 0.0000, 0.0000, 0.0000, 0.0000,\n",
       "        0.0000, 0.0000, 0.2459, 0.0000, 0.0000, 0.0000, 0.0000, 0.0000, 0.0000,\n",
       "        0.0000, 0.0000, 0.0000, 0.0000, 0.0000, 0.0000, 0.0000, 0.0000, 0.0000,\n",
       "        0.0000, 0.0000, 0.0000, 0.0000, 0.0000, 0.0000, 0.0000, 0.0000, 0.0000,\n",
       "        0.0000, 0.0000, 0.0000, 0.0000, 0.0000, 0.0000, 0.0000, 0.0000, 0.0000,\n",
       "        0.0000, 0.0000, 0.0000, 0.0000, 0.0000, 0.0000, 0.0000, 0.0000, 0.0000,\n",
       "        0.0000, 0.0000, 0.0000, 0.0000, 0.0000, 0.0000, 0.0000, 0.0000, 0.0000,\n",
       "        0.0000, 0.0000, 0.0000, 0.0000, 0.0000, 0.0000, 0.0000, 0.0000, 0.0000,\n",
       "        0.0000, 0.0000, 0.0000, 0.0000, 0.0000, 0.0000, 0.0000, 0.0000, 0.0000,\n",
       "        0.0000, 0.0000, 0.0000, 0.0000, 0.0000, 0.0000, 0.0000, 0.0000, 0.0000,\n",
       "        0.0000, 0.0000, 0.0000, 0.0000, 0.0000, 0.0000, 0.0000, 0.0000, 0.0000,\n",
       "        0.0000, 0.0000, 0.0000, 0.0000, 0.0000, 0.0000, 0.0000, 0.0000, 0.0000,\n",
       "        0.0000, 0.0000, 0.0000, 0.0000, 0.0000, 0.0000, 0.0000, 0.0000, 0.0000,\n",
       "        0.0000, 0.0000, 0.0000, 0.0000, 0.0000, 0.0000, 0.0000, 0.0000, 0.0000,\n",
       "        0.0000, 0.0000, 0.0000, 0.0000, 0.0000, 0.0000, 0.0000, 0.0000, 0.0000,\n",
       "        0.0000, 0.0000, 0.0000, 0.0000, 0.0000, 0.0000, 0.0000, 0.0000, 0.0000,\n",
       "        0.0000, 0.0000, 0.0000, 0.0000, 0.0000, 0.0000, 0.0000, 0.0000, 0.0000,\n",
       "        0.0000, 0.0000, 0.0000, 0.0000, 0.0000, 0.0000, 0.0000, 0.0000, 0.0000,\n",
       "        0.0000, 0.0000, 0.0000, 0.0000, 0.0000, 0.0000, 0.0000, 0.0000, 0.0000,\n",
       "        0.0000, 0.0000, 0.0000, 0.0000, 0.0000, 0.0000, 0.0000, 0.0000, 0.0000,\n",
       "        0.0000, 0.0000, 0.0000, 0.0000, 0.0000, 0.0000, 0.0000, 0.0000, 0.0000,\n",
       "        0.0000, 0.0000, 0.0000, 0.0000, 0.0000, 0.0000, 0.0000, 0.0000, 0.0000,\n",
       "        0.0000, 0.0000, 0.0000, 0.0000, 0.0000, 0.0000, 0.0000, 0.0000, 0.0000,\n",
       "        0.0000, 0.0000, 0.0000, 0.0000, 0.0000, 0.0000, 0.0000, 0.0000, 0.0000,\n",
       "        0.0000, 0.0000, 0.0000, 0.0000, 0.0000, 0.0000, 0.0000, 0.0000, 0.0000,\n",
       "        0.0000, 0.0000, 0.0000, 0.0000, 0.0000, 0.0000, 0.0000, 0.0000, 0.0000,\n",
       "        0.0000, 0.0000, 0.0000, 0.0000, 0.0000, 0.0000, 0.0000, 0.0000, 0.0000,\n",
       "        0.0000, 0.0000, 0.0000, 0.0000, 0.0000, 0.0000, 0.0000, 0.0000, 0.0000,\n",
       "        0.0000, 0.0000, 0.0000, 0.0000, 0.0000])"
      ]
     },
     "execution_count": 49,
     "metadata": {},
     "output_type": "execute_result"
    }
   ],
   "source": [
    "images[2]"
   ]
  },
  {
   "cell_type": "code",
   "execution_count": 44,
   "metadata": {},
   "outputs": [
    {
     "data": {
      "text/plain": [
       "torch.Size([152, 1])"
      ]
     },
     "execution_count": 44,
     "metadata": {},
     "output_type": "execute_result"
    }
   ],
   "source": [
    "labels.shape"
   ]
  },
  {
   "cell_type": "code",
   "execution_count": 33,
   "metadata": {},
   "outputs": [],
   "source": [
    "# Calculate preds accuracy\n",
    "\n",
    "y_true = torch.Tensor(dataset.data.loc[train_idxs, \"Etiqueta\"].values)\n",
    "# y_true = y_true.to(device)\n",
    "\n",
    "precision_scores = np.array([0, 0, 0, 0, 0, 0])\n",
    "for i in range(len(preds)):\n",
    "    tp, fn, tn, fp, _ = stat_scores(y_true, preds[i], class_index=1)\n",
    "    tp = tp.item()\n",
    "    tn = tn.item()\n",
    "    fp = fp.item()\n",
    "    fn = fn.item()\n",
    "    precision_scores = np.vstack((precision_scores, np.array([tp/(tp+fn), tn/(tn+fp), tp, fn, tn, fp])))\n",
    "precision_scores = np.delete(precision_scores, 0, 0)"
   ]
  },
  {
   "cell_type": "code",
   "execution_count": 75,
   "metadata": {},
   "outputs": [
    {
     "data": {
      "text/plain": [
       "array([[8.18383167e-01, 9.67614783e-01, 1.47800000e+03, 3.28000000e+02,\n",
       "        3.06850000e+04, 1.02700000e+03],\n",
       "       [7.54706534e-01, 9.78966953e-01, 1.36300000e+03, 4.43000000e+02,\n",
       "        3.10450000e+04, 6.67000000e+02],\n",
       "       [8.75415282e-01, 9.28260595e-01, 1.58100000e+03, 2.25000000e+02,\n",
       "        2.94370000e+04, 2.27500000e+03],\n",
       "       ...,\n",
       "       [9.08084164e-01, 9.20755550e-01, 1.64000000e+03, 1.66000000e+02,\n",
       "        2.91990000e+04, 2.51300000e+03],\n",
       "       [8.43853821e-01, 9.63546922e-01, 1.52400000e+03, 2.82000000e+02,\n",
       "        3.05560000e+04, 1.15600000e+03],\n",
       "       [8.92026578e-01, 9.35513370e-01, 1.61100000e+03, 1.95000000e+02,\n",
       "        2.96670000e+04, 2.04500000e+03]])"
      ]
     },
     "execution_count": 75,
     "metadata": {},
     "output_type": "execute_result"
    }
   ],
   "source": [
    "precision_scores"
   ]
  },
  {
   "cell_type": "code",
   "execution_count": 79,
   "metadata": {},
   "outputs": [
    {
     "data": {
      "text/plain": [
       "(33518,)"
      ]
     },
     "execution_count": 79,
     "metadata": {},
     "output_type": "execute_result"
    }
   ],
   "source": [
    "new_labels.shape"
   ]
  },
  {
   "cell_type": "code",
   "execution_count": 34,
   "metadata": {},
   "outputs": [],
   "source": [
    "# Aggregate teacher votes\n",
    "\n",
    "new_labels = np.array([]).astype(int)\n",
    "teacher_preds = preds.cpu().numpy()\n",
    "gamma = 0.05\n",
    "classes_count = 2\n",
    "\n",
    "for image_preds in np.transpose(teacher_preds):\n",
    "    label_counts = np.bincount(image_preds, minlength=classes_count).astype(float)\n",
    "    label_counts += np.random.laplace(0, 1 / gamma, classes_count)\n",
    "\n",
    "    new_label = np.argmax(label_counts)\n",
    "    new_labels = np.append(new_labels, new_label)"
   ]
  },
  {
   "cell_type": "code",
   "execution_count": 82,
   "metadata": {},
   "outputs": [
    {
     "data": {
      "text/plain": [
       "(249, 33518)"
      ]
     },
     "execution_count": 82,
     "metadata": {},
     "output_type": "execute_result"
    }
   ],
   "source": [
    "teacher_preds.shape"
   ]
  },
  {
   "cell_type": "code",
   "execution_count": 15,
   "metadata": {},
   "outputs": [],
   "source": [
    "torch.save(teacher_thresholds, 'teacher_thresholds_250_large.pt')\n",
    "torch.save(indices, 'indices_250_large.pt')\n",
    "torch.save(teacher_preds, 'teacher_preds_250_large.pt')"
   ]
  },
  {
   "cell_type": "code",
   "execution_count": 136,
   "metadata": {},
   "outputs": [],
   "source": [
    "preds_default = (y_pred >= 0.5).type(torch.int)\n",
    "preds_78 = (y_pred >= 0.0078).type(torch.int)\n",
    "preds_35 = (y_pred >= 0.0035192405).type(torch.int)"
   ]
  },
  {
   "cell_type": "code",
   "execution_count": 170,
   "metadata": {},
   "outputs": [
    {
     "data": {
      "text/plain": [
       "torch.Size([1000])"
      ]
     },
     "execution_count": 170,
     "metadata": {},
     "output_type": "execute_result"
    }
   ],
   "source": [
    "y_pred.shape"
   ]
  },
  {
   "cell_type": "code",
   "execution_count": 139,
   "metadata": {},
   "outputs": [
    {
     "data": {
      "text/plain": [
       "tensor([0, 0, 0, 0, 0, 0, 0, 0, 0, 0, 0, 0, 0, 0, 0, 0, 0, 0, 0, 1, 0, 1, 0, 0,\n",
       "        0, 1, 0, 0, 0, 0], dtype=torch.int32)"
      ]
     },
     "execution_count": 139,
     "metadata": {},
     "output_type": "execute_result"
    }
   ],
   "source": [
    "preds_default[:30]"
   ]
  },
  {
   "cell_type": "code",
   "execution_count": 140,
   "metadata": {},
   "outputs": [
    {
     "data": {
      "text/plain": [
       "tensor([0, 0, 0, 0, 0, 0, 0, 0, 0, 0, 0, 0, 0, 0, 0, 0, 0, 0, 0, 1, 0, 1, 0, 0,\n",
       "        0, 1, 0, 0, 0, 0], dtype=torch.int32)"
      ]
     },
     "execution_count": 140,
     "metadata": {},
     "output_type": "execute_result"
    }
   ],
   "source": [
    "preds_35[:30]"
   ]
  },
  {
   "cell_type": "code",
   "execution_count": 141,
   "metadata": {},
   "outputs": [
    {
     "data": {
      "text/plain": [
       "tensor([0, 0, 0, 0, 0, 0, 0, 0, 0, 0, 0, 0, 0, 0, 0, 0, 0, 0, 0, 1, 0, 1, 0, 0,\n",
       "        0, 1, 0, 0, 0, 0], dtype=torch.int32)"
      ]
     },
     "execution_count": 141,
     "metadata": {},
     "output_type": "execute_result"
    }
   ],
   "source": [
    "preds_78[:30]"
   ]
  },
  {
   "cell_type": "code",
   "execution_count": 143,
   "metadata": {},
   "outputs": [
    {
     "data": {
      "text/plain": [
       "tensor(95128)"
      ]
     },
     "execution_count": 143,
     "metadata": {},
     "output_type": "execute_result"
    }
   ],
   "source": [
    "(y_true == preds_78).sum()"
   ]
  },
  {
   "cell_type": "code",
   "execution_count": 144,
   "metadata": {},
   "outputs": [
    {
     "data": {
      "text/plain": [
       "tensor(97048)"
      ]
     },
     "execution_count": 144,
     "metadata": {},
     "output_type": "execute_result"
    }
   ],
   "source": [
    "(y_true == preds_default).sum()"
   ]
  },
  {
   "cell_type": "code",
   "execution_count": 145,
   "metadata": {},
   "outputs": [
    {
     "data": {
      "text/plain": [
       "tensor(94273)"
      ]
     },
     "execution_count": 145,
     "metadata": {},
     "output_type": "execute_result"
    }
   ],
   "source": [
    "(y_true == preds_35).sum()"
   ]
  },
  {
   "cell_type": "code",
   "execution_count": 160,
   "metadata": {},
   "outputs": [
    {
     "data": {
      "text/plain": [
       "(3996, 1676, 93052, 1276, 0.7579666160849773)"
      ]
     },
     "execution_count": 160,
     "metadata": {},
     "output_type": "execute_result"
    }
   ],
   "source": [
    "tp, fp, tn, fn, _ = stat_scores(preds_default, y_true, class_index=1)\n",
    "tp, fp, tn, fn = tp.item(), fp.item(), tn.item(), fn.item()\n",
    "tpr = tp / (tp + fn)\n",
    "tp, fp, tn, fn, tpr"
   ]
  },
  {
   "cell_type": "code",
   "execution_count": 161,
   "metadata": {},
   "outputs": [
    {
     "data": {
      "text/plain": [
       "(4649, 5104, 89624, 623, 0.8818285280728376)"
      ]
     },
     "execution_count": 161,
     "metadata": {},
     "output_type": "execute_result"
    }
   ],
   "source": [
    "tp, fp, tn, fn, _ = stat_scores(preds_35, y_true, class_index=1)\n",
    "tp, fp, tn, fn = tp.item(), fp.item(), tn.item(), fn.item()\n",
    "tpr = tp / (tp + fn)\n",
    "tp, fp, tn, fn, tpr"
   ]
  },
  {
   "cell_type": "code",
   "execution_count": 162,
   "metadata": {},
   "outputs": [
    {
     "data": {
      "text/plain": [
       "(4537, 4137, 90591, 735, 0.8605842185128983)"
      ]
     },
     "execution_count": 162,
     "metadata": {},
     "output_type": "execute_result"
    }
   ],
   "source": [
    "tp, fp, tn, fn, _ = stat_scores(preds_78, y_true, class_index=1)\n",
    "tp, fp, tn, fn = tp.item(), fp.item(), tn.item(), fn.item()\n",
    "tpr = tp / (tp + fn)\n",
    "tp, fp, tn, fn, tpr"
   ]
  },
  {
   "cell_type": "code",
   "execution_count": 35,
   "metadata": {},
   "outputs": [],
   "source": [
    "import pandas as pd"
   ]
  },
  {
   "cell_type": "code",
   "execution_count": 36,
   "metadata": {},
   "outputs": [
    {
     "data": {
      "text/html": [
       "<div>\n",
       "<style scoped>\n",
       "    .dataframe tbody tr th:only-of-type {\n",
       "        vertical-align: middle;\n",
       "    }\n",
       "\n",
       "    .dataframe tbody tr th {\n",
       "        vertical-align: top;\n",
       "    }\n",
       "\n",
       "    .dataframe thead th {\n",
       "        text-align: right;\n",
       "    }\n",
       "</style>\n",
       "<table border=\"1\" class=\"dataframe\">\n",
       "  <thead>\n",
       "    <tr style=\"text-align: right;\">\n",
       "      <th></th>\n",
       "      <th>/</th>\n",
       "      <th>javascript</th>\n",
       "      <th>.</th>\n",
       "      <th>core</th>\n",
       "      <th>_</th>\n",
       "      <th>2</th>\n",
       "      <th>-</th>\n",
       "      <th>m</th>\n",
       "      <th>default</th>\n",
       "      <th>php</th>\n",
       "      <th>...</th>\n",
       "      <th>es</th>\n",
       "      <th>title</th>\n",
       "      <th>c0</th>\n",
       "      <th>2565</th>\n",
       "      <th>2563</th>\n",
       "      <th>2569</th>\n",
       "      <th>2574</th>\n",
       "      <th>256f</th>\n",
       "      <th>2e</th>\n",
       "      <th>Etiqueta</th>\n",
       "    </tr>\n",
       "  </thead>\n",
       "  <tbody>\n",
       "    <tr>\n",
       "      <th>0</th>\n",
       "      <td>0.0</td>\n",
       "      <td>0.0</td>\n",
       "      <td>0.0</td>\n",
       "      <td>0.0</td>\n",
       "      <td>0.0</td>\n",
       "      <td>0.0</td>\n",
       "      <td>0.0</td>\n",
       "      <td>0.0</td>\n",
       "      <td>0.0</td>\n",
       "      <td>0.000000</td>\n",
       "      <td>...</td>\n",
       "      <td>0.0</td>\n",
       "      <td>0.0</td>\n",
       "      <td>0.0</td>\n",
       "      <td>0.0</td>\n",
       "      <td>0.0</td>\n",
       "      <td>0.0</td>\n",
       "      <td>0.0</td>\n",
       "      <td>0.0</td>\n",
       "      <td>0.0</td>\n",
       "      <td>0</td>\n",
       "    </tr>\n",
       "    <tr>\n",
       "      <th>1</th>\n",
       "      <td>0.0</td>\n",
       "      <td>0.0</td>\n",
       "      <td>0.0</td>\n",
       "      <td>0.0</td>\n",
       "      <td>0.0</td>\n",
       "      <td>0.0</td>\n",
       "      <td>0.0</td>\n",
       "      <td>0.0</td>\n",
       "      <td>0.0</td>\n",
       "      <td>0.000000</td>\n",
       "      <td>...</td>\n",
       "      <td>0.0</td>\n",
       "      <td>0.0</td>\n",
       "      <td>0.0</td>\n",
       "      <td>0.0</td>\n",
       "      <td>0.0</td>\n",
       "      <td>0.0</td>\n",
       "      <td>0.0</td>\n",
       "      <td>0.0</td>\n",
       "      <td>0.0</td>\n",
       "      <td>0</td>\n",
       "    </tr>\n",
       "    <tr>\n",
       "      <th>2</th>\n",
       "      <td>0.0</td>\n",
       "      <td>0.0</td>\n",
       "      <td>0.0</td>\n",
       "      <td>0.0</td>\n",
       "      <td>0.0</td>\n",
       "      <td>0.0</td>\n",
       "      <td>0.0</td>\n",
       "      <td>0.0</td>\n",
       "      <td>0.0</td>\n",
       "      <td>0.000000</td>\n",
       "      <td>...</td>\n",
       "      <td>0.0</td>\n",
       "      <td>0.0</td>\n",
       "      <td>0.0</td>\n",
       "      <td>0.0</td>\n",
       "      <td>0.0</td>\n",
       "      <td>0.0</td>\n",
       "      <td>0.0</td>\n",
       "      <td>0.0</td>\n",
       "      <td>0.0</td>\n",
       "      <td>0</td>\n",
       "    </tr>\n",
       "    <tr>\n",
       "      <th>3</th>\n",
       "      <td>0.0</td>\n",
       "      <td>0.0</td>\n",
       "      <td>0.0</td>\n",
       "      <td>0.0</td>\n",
       "      <td>0.0</td>\n",
       "      <td>0.0</td>\n",
       "      <td>0.0</td>\n",
       "      <td>0.0</td>\n",
       "      <td>0.0</td>\n",
       "      <td>0.000000</td>\n",
       "      <td>...</td>\n",
       "      <td>0.0</td>\n",
       "      <td>0.0</td>\n",
       "      <td>0.0</td>\n",
       "      <td>0.0</td>\n",
       "      <td>0.0</td>\n",
       "      <td>0.0</td>\n",
       "      <td>0.0</td>\n",
       "      <td>0.0</td>\n",
       "      <td>0.0</td>\n",
       "      <td>0</td>\n",
       "    </tr>\n",
       "    <tr>\n",
       "      <th>4</th>\n",
       "      <td>0.0</td>\n",
       "      <td>0.0</td>\n",
       "      <td>0.0</td>\n",
       "      <td>0.0</td>\n",
       "      <td>0.0</td>\n",
       "      <td>0.0</td>\n",
       "      <td>0.0</td>\n",
       "      <td>0.0</td>\n",
       "      <td>0.0</td>\n",
       "      <td>0.000000</td>\n",
       "      <td>...</td>\n",
       "      <td>0.0</td>\n",
       "      <td>0.0</td>\n",
       "      <td>0.0</td>\n",
       "      <td>0.0</td>\n",
       "      <td>0.0</td>\n",
       "      <td>0.0</td>\n",
       "      <td>0.0</td>\n",
       "      <td>0.0</td>\n",
       "      <td>0.0</td>\n",
       "      <td>0</td>\n",
       "    </tr>\n",
       "    <tr>\n",
       "      <th>...</th>\n",
       "      <td>...</td>\n",
       "      <td>...</td>\n",
       "      <td>...</td>\n",
       "      <td>...</td>\n",
       "      <td>...</td>\n",
       "      <td>...</td>\n",
       "      <td>...</td>\n",
       "      <td>...</td>\n",
       "      <td>...</td>\n",
       "      <td>...</td>\n",
       "      <td>...</td>\n",
       "      <td>...</td>\n",
       "      <td>...</td>\n",
       "      <td>...</td>\n",
       "      <td>...</td>\n",
       "      <td>...</td>\n",
       "      <td>...</td>\n",
       "      <td>...</td>\n",
       "      <td>...</td>\n",
       "      <td>...</td>\n",
       "      <td>...</td>\n",
       "    </tr>\n",
       "    <tr>\n",
       "      <th>233513</th>\n",
       "      <td>0.0</td>\n",
       "      <td>0.0</td>\n",
       "      <td>0.0</td>\n",
       "      <td>0.0</td>\n",
       "      <td>0.0</td>\n",
       "      <td>0.0</td>\n",
       "      <td>0.0</td>\n",
       "      <td>0.0</td>\n",
       "      <td>0.0</td>\n",
       "      <td>0.000000</td>\n",
       "      <td>...</td>\n",
       "      <td>0.0</td>\n",
       "      <td>0.0</td>\n",
       "      <td>0.0</td>\n",
       "      <td>0.0</td>\n",
       "      <td>0.0</td>\n",
       "      <td>0.0</td>\n",
       "      <td>0.0</td>\n",
       "      <td>0.0</td>\n",
       "      <td>0.0</td>\n",
       "      <td>0</td>\n",
       "    </tr>\n",
       "    <tr>\n",
       "      <th>233514</th>\n",
       "      <td>0.0</td>\n",
       "      <td>0.0</td>\n",
       "      <td>0.0</td>\n",
       "      <td>0.0</td>\n",
       "      <td>0.0</td>\n",
       "      <td>0.0</td>\n",
       "      <td>0.0</td>\n",
       "      <td>0.0</td>\n",
       "      <td>0.0</td>\n",
       "      <td>0.000000</td>\n",
       "      <td>...</td>\n",
       "      <td>0.0</td>\n",
       "      <td>0.0</td>\n",
       "      <td>0.0</td>\n",
       "      <td>0.0</td>\n",
       "      <td>0.0</td>\n",
       "      <td>0.0</td>\n",
       "      <td>0.0</td>\n",
       "      <td>0.0</td>\n",
       "      <td>0.0</td>\n",
       "      <td>0</td>\n",
       "    </tr>\n",
       "    <tr>\n",
       "      <th>233515</th>\n",
       "      <td>0.0</td>\n",
       "      <td>0.0</td>\n",
       "      <td>0.0</td>\n",
       "      <td>0.0</td>\n",
       "      <td>0.0</td>\n",
       "      <td>0.0</td>\n",
       "      <td>0.0</td>\n",
       "      <td>0.0</td>\n",
       "      <td>0.0</td>\n",
       "      <td>0.000000</td>\n",
       "      <td>...</td>\n",
       "      <td>0.0</td>\n",
       "      <td>0.0</td>\n",
       "      <td>0.0</td>\n",
       "      <td>0.0</td>\n",
       "      <td>0.0</td>\n",
       "      <td>0.0</td>\n",
       "      <td>0.0</td>\n",
       "      <td>0.0</td>\n",
       "      <td>0.0</td>\n",
       "      <td>0</td>\n",
       "    </tr>\n",
       "    <tr>\n",
       "      <th>233516</th>\n",
       "      <td>0.0</td>\n",
       "      <td>0.0</td>\n",
       "      <td>0.0</td>\n",
       "      <td>0.0</td>\n",
       "      <td>0.0</td>\n",
       "      <td>0.0</td>\n",
       "      <td>0.0</td>\n",
       "      <td>0.0</td>\n",
       "      <td>0.0</td>\n",
       "      <td>0.000000</td>\n",
       "      <td>...</td>\n",
       "      <td>0.0</td>\n",
       "      <td>0.0</td>\n",
       "      <td>0.0</td>\n",
       "      <td>0.0</td>\n",
       "      <td>0.0</td>\n",
       "      <td>0.0</td>\n",
       "      <td>0.0</td>\n",
       "      <td>0.0</td>\n",
       "      <td>0.0</td>\n",
       "      <td>0</td>\n",
       "    </tr>\n",
       "    <tr>\n",
       "      <th>233517</th>\n",
       "      <td>0.0</td>\n",
       "      <td>0.0</td>\n",
       "      <td>0.0</td>\n",
       "      <td>0.0</td>\n",
       "      <td>0.0</td>\n",
       "      <td>0.0</td>\n",
       "      <td>0.0</td>\n",
       "      <td>0.0</td>\n",
       "      <td>0.0</td>\n",
       "      <td>0.812959</td>\n",
       "      <td>...</td>\n",
       "      <td>0.0</td>\n",
       "      <td>0.0</td>\n",
       "      <td>0.0</td>\n",
       "      <td>0.0</td>\n",
       "      <td>0.0</td>\n",
       "      <td>0.0</td>\n",
       "      <td>0.0</td>\n",
       "      <td>0.0</td>\n",
       "      <td>0.0</td>\n",
       "      <td>0</td>\n",
       "    </tr>\n",
       "  </tbody>\n",
       "</table>\n",
       "<p>233518 rows × 501 columns</p>\n",
       "</div>"
      ],
      "text/plain": [
       "          /  javascript    .  core    _    2    -    m  default       php  \\\n",
       "0       0.0         0.0  0.0   0.0  0.0  0.0  0.0  0.0      0.0  0.000000   \n",
       "1       0.0         0.0  0.0   0.0  0.0  0.0  0.0  0.0      0.0  0.000000   \n",
       "2       0.0         0.0  0.0   0.0  0.0  0.0  0.0  0.0      0.0  0.000000   \n",
       "3       0.0         0.0  0.0   0.0  0.0  0.0  0.0  0.0      0.0  0.000000   \n",
       "4       0.0         0.0  0.0   0.0  0.0  0.0  0.0  0.0      0.0  0.000000   \n",
       "...     ...         ...  ...   ...  ...  ...  ...  ...      ...       ...   \n",
       "233513  0.0         0.0  0.0   0.0  0.0  0.0  0.0  0.0      0.0  0.000000   \n",
       "233514  0.0         0.0  0.0   0.0  0.0  0.0  0.0  0.0      0.0  0.000000   \n",
       "233515  0.0         0.0  0.0   0.0  0.0  0.0  0.0  0.0      0.0  0.000000   \n",
       "233516  0.0         0.0  0.0   0.0  0.0  0.0  0.0  0.0      0.0  0.000000   \n",
       "233517  0.0         0.0  0.0   0.0  0.0  0.0  0.0  0.0      0.0  0.812959   \n",
       "\n",
       "        ...   es  title   c0  2565  2563  2569  2574  256f   2e  Etiqueta  \n",
       "0       ...  0.0    0.0  0.0   0.0   0.0   0.0   0.0   0.0  0.0         0  \n",
       "1       ...  0.0    0.0  0.0   0.0   0.0   0.0   0.0   0.0  0.0         0  \n",
       "2       ...  0.0    0.0  0.0   0.0   0.0   0.0   0.0   0.0  0.0         0  \n",
       "3       ...  0.0    0.0  0.0   0.0   0.0   0.0   0.0   0.0  0.0         0  \n",
       "4       ...  0.0    0.0  0.0   0.0   0.0   0.0   0.0   0.0  0.0         0  \n",
       "...     ...  ...    ...  ...   ...   ...   ...   ...   ...  ...       ...  \n",
       "233513  ...  0.0    0.0  0.0   0.0   0.0   0.0   0.0   0.0  0.0         0  \n",
       "233514  ...  0.0    0.0  0.0   0.0   0.0   0.0   0.0   0.0  0.0         0  \n",
       "233515  ...  0.0    0.0  0.0   0.0   0.0   0.0   0.0   0.0  0.0         0  \n",
       "233516  ...  0.0    0.0  0.0   0.0   0.0   0.0   0.0   0.0  0.0         0  \n",
       "233517  ...  0.0    0.0  0.0   0.0   0.0   0.0   0.0   0.0  0.0         0  \n",
       "\n",
       "[233518 rows x 501 columns]"
      ]
     },
     "execution_count": 36,
     "metadata": {},
     "output_type": "execute_result"
    }
   ],
   "source": [
    "data = pd.read_csv(\"data/WebRequests/unigrams/train.csv\", sep=\" \", index_col=0)\n",
    "data"
   ]
  },
  {
   "cell_type": "code",
   "execution_count": 38,
   "metadata": {},
   "outputs": [
    {
     "data": {
      "text/plain": [
       "/            NaN\n",
       "javascript   NaN\n",
       ".            NaN\n",
       "core         NaN\n",
       "_            NaN\n",
       "              ..\n",
       "2569         NaN\n",
       "2574         NaN\n",
       "256f         NaN\n",
       "2e           NaN\n",
       "Etiqueta     NaN\n",
       "Name: Etiqueta, Length: 501, dtype: float64"
      ]
     },
     "execution_count": 38,
     "metadata": {},
     "output_type": "execute_result"
    }
   ],
   "source": [
    "data[:10].corr()['Etiqueta']"
   ]
  },
  {
   "cell_type": "code",
   "execution_count": 59,
   "metadata": {},
   "outputs": [],
   "source": [
    "import numpy as np\n",
    "from sklearn import metrics\n",
    "\n",
    "y = np.array([0, 1, 0, 1])\n",
    "scores = np.array([0.1, 0.9, 0.15, 0.8])\n",
    "fpr, tpr, thresholds = metrics.roc_curve(y, scores)"
   ]
  },
  {
   "cell_type": "code",
   "execution_count": 60,
   "metadata": {},
   "outputs": [
    {
     "data": {
      "text/plain": [
       "array([0., 0., 0., 1.])"
      ]
     },
     "execution_count": 60,
     "metadata": {},
     "output_type": "execute_result"
    }
   ],
   "source": [
    "fpr"
   ]
  },
  {
   "cell_type": "code",
   "execution_count": 61,
   "metadata": {},
   "outputs": [
    {
     "data": {
      "text/plain": [
       "array([0. , 0.5, 1. , 1. ])"
      ]
     },
     "execution_count": 61,
     "metadata": {},
     "output_type": "execute_result"
    }
   ],
   "source": [
    "tpr"
   ]
  },
  {
   "cell_type": "code",
   "execution_count": 62,
   "metadata": {},
   "outputs": [
    {
     "data": {
      "text/plain": [
       "array([1.9, 0.9, 0.8, 0.1])"
      ]
     },
     "execution_count": 62,
     "metadata": {},
     "output_type": "execute_result"
    }
   ],
   "source": [
    "thresholds"
   ]
  },
  {
   "cell_type": "code",
   "execution_count": null,
   "metadata": {},
   "outputs": [],
   "source": []
  }
 ],
 "metadata": {
  "kernelspec": {
   "display_name": "Python 3",
   "language": "python",
   "name": "python3"
  },
  "language_info": {
   "codemirror_mode": {
    "name": "ipython",
    "version": 3
   },
   "file_extension": ".py",
   "mimetype": "text/x-python",
   "name": "python",
   "nbconvert_exporter": "python",
   "pygments_lexer": "ipython3",
   "version": "3.7.6"
  }
 },
 "nbformat": 4,
 "nbformat_minor": 4
}
